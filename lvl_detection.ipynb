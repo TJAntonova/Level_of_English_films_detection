{
 "cells": [
  {
   "cell_type": "markdown",
   "id": "4d5a49a4",
   "metadata": {},
   "source": [
    "# Automatic detection of the difficulty level of English-language films"
   ]
  },
  {
   "cell_type": "markdown",
   "id": "53e1895e",
   "metadata": {},
   "source": [
    "\n",
    "**Цель исследования** - разработанная модель для автоматического определения уровня сложности англоязычных фильмов..\n",
    "\n",
    "**Основные этапы исследования:**\n",
    "\n",
    "- загрузка и ознакомление с данными,\n",
    "- предварительная обработка,\n",
    "- выбор и обучение модели,\n",
    "- итоговая оценка качества предсказания.\n",
    "\n",
    "Исходные данные:\n",
    "- таблица с названием фильма и меткой уровня сложности,\n",
    "- субтитры 278 англоязычных фильмов,\n",
    "- Оксфордский словарь, содержащий разделенные по уровням лексические единицы."
   ]
  },
  {
   "cell_type": "markdown",
   "id": "8a918aae",
   "metadata": {},
   "source": [
    "## Обзор данных"
   ]
  },
  {
   "cell_type": "code",
   "execution_count": 1,
   "id": "74f2a603",
   "metadata": {},
   "outputs": [],
   "source": [
    "RAND = 666 # константа случайного состояния"
   ]
  },
  {
   "cell_type": "markdown",
   "id": "a6dccd4a",
   "metadata": {},
   "source": [
    "### Подключение необходимых библиотек"
   ]
  },
  {
   "cell_type": "code",
   "execution_count": 2,
   "id": "ce7091ef",
   "metadata": {},
   "outputs": [
    {
     "name": "stdout",
     "output_type": "stream",
     "text": [
      "Requirement already satisfied: pysrt in c:\\users\\js\\anaconda3\\lib\\site-packages (1.1.2)\n",
      "Requirement already satisfied: chardet in c:\\users\\js\\anaconda3\\lib\\site-packages (from pysrt) (4.0.0)\n",
      "Requirement already satisfied: spacy in c:\\users\\js\\anaconda3\\lib\\site-packages (3.4.1)\n",
      "Requirement already satisfied: langcodes<4.0.0,>=3.2.0 in c:\\users\\js\\anaconda3\\lib\\site-packages (from spacy) (3.3.0)\n",
      "Requirement already satisfied: catalogue<2.1.0,>=2.0.6 in c:\\users\\js\\anaconda3\\lib\\site-packages (from spacy) (2.0.6)\n",
      "Requirement already satisfied: wasabi<1.1.0,>=0.9.1 in c:\\users\\js\\anaconda3\\lib\\site-packages (from spacy) (0.10.1)\n",
      "Requirement already satisfied: srsly<3.0.0,>=2.4.3 in c:\\users\\js\\anaconda3\\lib\\site-packages (from spacy) (2.4.4)\n",
      "Requirement already satisfied: tqdm<5.0.0,>=4.38.0 in c:\\users\\js\\anaconda3\\lib\\site-packages (from spacy) (4.59.0)\n",
      "Requirement already satisfied: typer<0.5.0,>=0.3.0 in c:\\users\\js\\anaconda3\\lib\\site-packages (from spacy) (0.4.0)\n",
      "Requirement already satisfied: numpy>=1.15.0 in c:\\users\\js\\anaconda3\\lib\\site-packages (from spacy) (1.20.1)\n",
      "Requirement already satisfied: jinja2 in c:\\users\\js\\anaconda3\\lib\\site-packages (from spacy) (2.11.3)\n",
      "Requirement already satisfied: spacy-loggers<2.0.0,>=1.0.0 in c:\\users\\js\\anaconda3\\lib\\site-packages (from spacy) (1.0.1)\n",
      "Requirement already satisfied: preshed<3.1.0,>=3.0.2 in c:\\users\\js\\anaconda3\\lib\\site-packages (from spacy) (3.0.6)\n",
      "Requirement already satisfied: pydantic!=1.8,!=1.8.1,<1.10.0,>=1.7.4 in c:\\users\\js\\anaconda3\\lib\\site-packages (from spacy) (1.8.2)\n",
      "Requirement already satisfied: thinc<8.2.0,>=8.1.0 in c:\\users\\js\\anaconda3\\lib\\site-packages (from spacy) (8.1.0)\n",
      "Requirement already satisfied: spacy-legacy<3.1.0,>=3.0.9 in c:\\users\\js\\anaconda3\\lib\\site-packages (from spacy) (3.0.10)\n",
      "Requirement already satisfied: murmurhash<1.1.0,>=0.28.0 in c:\\users\\js\\anaconda3\\lib\\site-packages (from spacy) (1.0.6)\n",
      "Requirement already satisfied: packaging>=20.0 in c:\\users\\js\\anaconda3\\lib\\site-packages (from spacy) (23.0)\n",
      "Requirement already satisfied: pathy>=0.3.5 in c:\\users\\js\\anaconda3\\lib\\site-packages (from spacy) (0.6.1)\n",
      "Requirement already satisfied: setuptools in c:\\users\\js\\anaconda3\\lib\\site-packages (from spacy) (52.0.0.post20210125)\n",
      "Requirement already satisfied: cymem<2.1.0,>=2.0.2 in c:\\users\\js\\anaconda3\\lib\\site-packages (from spacy) (2.0.6)\n",
      "Requirement already satisfied: requests<3.0.0,>=2.13.0 in c:\\users\\js\\anaconda3\\lib\\site-packages (from spacy) (2.25.1)\n",
      "Requirement already satisfied: smart-open<6.0.0,>=5.0.0 in c:\\users\\js\\anaconda3\\lib\\site-packages (from pathy>=0.3.5->spacy) (5.2.1)\n",
      "Requirement already satisfied: typing-extensions>=3.7.4.3 in c:\\users\\js\\anaconda3\\lib\\site-packages (from pydantic!=1.8,!=1.8.1,<1.10.0,>=1.7.4->spacy) (4.5.0)\n",
      "Requirement already satisfied: certifi>=2017.4.17 in c:\\users\\js\\anaconda3\\lib\\site-packages (from requests<3.0.0,>=2.13.0->spacy) (2020.12.5)\n",
      "Requirement already satisfied: chardet<5,>=3.0.2 in c:\\users\\js\\anaconda3\\lib\\site-packages (from requests<3.0.0,>=2.13.0->spacy) (4.0.0)\n",
      "Requirement already satisfied: urllib3<1.27,>=1.21.1 in c:\\users\\js\\anaconda3\\lib\\site-packages (from requests<3.0.0,>=2.13.0->spacy) (1.26.4)\n",
      "Requirement already satisfied: idna<3,>=2.5 in c:\\users\\js\\anaconda3\\lib\\site-packages (from requests<3.0.0,>=2.13.0->spacy) (2.10)\n",
      "Requirement already satisfied: blis<0.8.0,>=0.7.8 in c:\\users\\js\\anaconda3\\lib\\site-packages (from thinc<8.2.0,>=8.1.0->spacy) (0.7.8)\n",
      "Requirement already satisfied: click<9.0.0,>=7.1.1 in c:\\users\\js\\anaconda3\\lib\\site-packages (from typer<0.5.0,>=0.3.0->spacy) (7.1.2)\n",
      "Requirement already satisfied: MarkupSafe>=0.23 in c:\\users\\js\\anaconda3\\lib\\site-packages (from jinja2->spacy) (1.1.1)\n"
     ]
    }
   ],
   "source": [
    "!pip install pysrt\n",
    "!pip install spacy"
   ]
  },
  {
   "cell_type": "code",
   "execution_count": 3,
   "id": "3b859c5b",
   "metadata": {},
   "outputs": [],
   "source": [
    "import os\n",
    "import numpy as np               \n",
    "import pandas as pd              \n",
    "import pysrt                     \n",
    "import spacy                     \n",
    "import re                        \n",
    "from joblib import dump, load    \n",
    "\n",
    "\n",
    "\n",
    "from sklearn.datasets import load_files  \n",
    "from sklearn.model_selection import train_test_split\n",
    "from sklearn.feature_extraction.text import CountVectorizer\n",
    "from sklearn.pipeline import Pipeline\n",
    "from sklearn.naive_bayes import MultinomialNB\n",
    "from sklearn.model_selection import GridSearchCV\n",
    "from sklearn.metrics import classification_report, f1_score, confusion_matrix, ConfusionMatrixDisplay\n",
    "from sklearn.compose import ColumnTransformer"
   ]
  },
  {
   "cell_type": "markdown",
   "id": "3db4be87",
   "metadata": {},
   "source": [
    "### Открытие и изучение данных"
   ]
  },
  {
   "cell_type": "code",
   "execution_count": 4,
   "id": "ec0b8d2f",
   "metadata": {},
   "outputs": [
    {
     "data": {
      "text/html": [
       "<div>\n",
       "<style scoped>\n",
       "    .dataframe tbody tr th:only-of-type {\n",
       "        vertical-align: middle;\n",
       "    }\n",
       "\n",
       "    .dataframe tbody tr th {\n",
       "        vertical-align: top;\n",
       "    }\n",
       "\n",
       "    .dataframe thead th {\n",
       "        text-align: right;\n",
       "    }\n",
       "</style>\n",
       "<table border=\"1\" class=\"dataframe\">\n",
       "  <thead>\n",
       "    <tr style=\"text-align: right;\">\n",
       "      <th></th>\n",
       "      <th>Movie</th>\n",
       "      <th>Level</th>\n",
       "    </tr>\n",
       "    <tr>\n",
       "      <th>id</th>\n",
       "      <th></th>\n",
       "      <th></th>\n",
       "    </tr>\n",
       "  </thead>\n",
       "  <tbody>\n",
       "    <tr>\n",
       "      <th>0</th>\n",
       "      <td>10_Cloverfield_lane(2016)</td>\n",
       "      <td>B1</td>\n",
       "    </tr>\n",
       "    <tr>\n",
       "      <th>1</th>\n",
       "      <td>10_things_I_hate_about_you(1999)</td>\n",
       "      <td>B1</td>\n",
       "    </tr>\n",
       "    <tr>\n",
       "      <th>2</th>\n",
       "      <td>A_knights_tale(2001)</td>\n",
       "      <td>B2</td>\n",
       "    </tr>\n",
       "    <tr>\n",
       "      <th>3</th>\n",
       "      <td>A_star_is_born(2018)</td>\n",
       "      <td>B2</td>\n",
       "    </tr>\n",
       "    <tr>\n",
       "      <th>4</th>\n",
       "      <td>Aladdin(1992)</td>\n",
       "      <td>A2/A2+</td>\n",
       "    </tr>\n",
       "    <tr>\n",
       "      <th>5</th>\n",
       "      <td>All_dogs_go_to_heaven(1989)</td>\n",
       "      <td>A2/A2+</td>\n",
       "    </tr>\n",
       "    <tr>\n",
       "      <th>6</th>\n",
       "      <td>An_American_tail(1986)</td>\n",
       "      <td>A2/A2+</td>\n",
       "    </tr>\n",
       "    <tr>\n",
       "      <th>7</th>\n",
       "      <td>Babe(1995)</td>\n",
       "      <td>A2/A2+</td>\n",
       "    </tr>\n",
       "    <tr>\n",
       "      <th>8</th>\n",
       "      <td>Back_to_the_future(1985)</td>\n",
       "      <td>A2/A2+</td>\n",
       "    </tr>\n",
       "    <tr>\n",
       "      <th>9</th>\n",
       "      <td>Banking_On_Bitcoin(2016)</td>\n",
       "      <td>C1</td>\n",
       "    </tr>\n",
       "  </tbody>\n",
       "</table>\n",
       "</div>"
      ],
      "text/plain": [
       "                               Movie   Level\n",
       "id                                          \n",
       "0          10_Cloverfield_lane(2016)      B1\n",
       "1   10_things_I_hate_about_you(1999)      B1\n",
       "2               A_knights_tale(2001)      B2\n",
       "3               A_star_is_born(2018)      B2\n",
       "4                      Aladdin(1992)  A2/A2+\n",
       "5        All_dogs_go_to_heaven(1989)  A2/A2+\n",
       "6             An_American_tail(1986)  A2/A2+\n",
       "7                         Babe(1995)  A2/A2+\n",
       "8           Back_to_the_future(1985)  A2/A2+\n",
       "9           Banking_On_Bitcoin(2016)      C1"
      ]
     },
     "execution_count": 4,
     "metadata": {},
     "output_type": "execute_result"
    }
   ],
   "source": [
    "server_path = ''\n",
    "local_path = ''\n",
    "\n",
    "df = 'movies_labels.xlsx'\n",
    "try:\n",
    "    df = pd.read_excel(server_path + df, index_col='id')  \n",
    "    \n",
    "except: \n",
    "    df = pd.read_excel(local_path + df, index_col='id')  \n",
    "    \n",
    "df.head(10)"
   ]
  },
  {
   "cell_type": "code",
   "execution_count": 5,
   "id": "6210adee",
   "metadata": {},
   "outputs": [
    {
     "name": "stdout",
     "output_type": "stream",
     "text": [
      "<class 'pandas.core.frame.DataFrame'>\n",
      "Int64Index: 241 entries, 0 to 240\n",
      "Data columns (total 2 columns):\n",
      " #   Column  Non-Null Count  Dtype \n",
      "---  ------  --------------  ----- \n",
      " 0   Movie   241 non-null    object\n",
      " 1   Level   241 non-null    object\n",
      "dtypes: object(2)\n",
      "memory usage: 5.6+ KB\n"
     ]
    }
   ],
   "source": [
    "df.info()"
   ]
  },
  {
   "cell_type": "markdown",
   "id": "6149b37d",
   "metadata": {},
   "source": [
    "Пропусков в таблице нет, посмотрим уникальные значения стобца с уровнем сложности."
   ]
  },
  {
   "cell_type": "code",
   "execution_count": 6,
   "id": "4363d120",
   "metadata": {},
   "outputs": [
    {
     "data": {
      "text/plain": [
       "array(['B1', 'B2', 'A2/A2+', 'C1', 'B1, B2', 'A2/A2+, B1', 'A2'],\n",
       "      dtype=object)"
      ]
     },
     "execution_count": 6,
     "metadata": {},
     "output_type": "execute_result"
    }
   ],
   "source": [
    "df['Level'].unique()"
   ]
  },
  {
   "cell_type": "code",
   "execution_count": 7,
   "id": "4bcffaf4",
   "metadata": {},
   "outputs": [
    {
     "data": {
      "text/plain": [
       "B2            101\n",
       "B1             55\n",
       "C1             40\n",
       "A2/A2+         26\n",
       "B1, B2          8\n",
       "A2              6\n",
       "A2/A2+, B1      5\n",
       "Name: Level, dtype: int64"
      ]
     },
     "execution_count": 7,
     "metadata": {},
     "output_type": "execute_result"
    }
   ],
   "source": [
    "df['Level'].value_counts()"
   ]
  },
  {
   "cell_type": "markdown",
   "id": "41db139e",
   "metadata": {},
   "source": [
    "Присвоим числовые метки вместо буквенных и объединим уровни 'A2', 'A2/A2+' и 'A2/A2+, B1'; 'B1' и 'B1, B2'. (Объединение субъективное и в любом случае повлияет на работу модели, но как лингвист утверждаю, что человек, владеющий уровнем А2 поймет 50-70% фильма уровня B1)."
   ]
  },
  {
   "cell_type": "code",
   "execution_count": 8,
   "id": "79518dca",
   "metadata": {},
   "outputs": [],
   "source": [
    "label_dict = {'A2': 1,\n",
    "              'A2/A2+': 1,\n",
    "              'B1': 2,\n",
    "              'A2/A2+, B1': 1,\n",
    "              'B2': 3,\n",
    "              'B1, B2': 2,\n",
    "              'C1': 4}\n",
    "\n",
    "df = df.replace(label_dict)"
   ]
  },
  {
   "cell_type": "code",
   "execution_count": 9,
   "id": "430b59e4",
   "metadata": {},
   "outputs": [
    {
     "data": {
      "text/plain": [
       "3    101\n",
       "2     63\n",
       "4     40\n",
       "1     37\n",
       "Name: Level, dtype: int64"
      ]
     },
     "execution_count": 9,
     "metadata": {},
     "output_type": "execute_result"
    }
   ],
   "source": [
    "df['Level'].value_counts()"
   ]
  },
  {
   "cell_type": "markdown",
   "id": "d348f707",
   "metadata": {},
   "source": [
    "Удалим дубликаты."
   ]
  },
  {
   "cell_type": "code",
   "execution_count": 10,
   "id": "9264f569",
   "metadata": {},
   "outputs": [
    {
     "data": {
      "text/html": [
       "<div>\n",
       "<style scoped>\n",
       "    .dataframe tbody tr th:only-of-type {\n",
       "        vertical-align: middle;\n",
       "    }\n",
       "\n",
       "    .dataframe tbody tr th {\n",
       "        vertical-align: top;\n",
       "    }\n",
       "\n",
       "    .dataframe thead th {\n",
       "        text-align: right;\n",
       "    }\n",
       "</style>\n",
       "<table border=\"1\" class=\"dataframe\">\n",
       "  <thead>\n",
       "    <tr style=\"text-align: right;\">\n",
       "      <th></th>\n",
       "      <th>Movie</th>\n",
       "      <th>Level</th>\n",
       "    </tr>\n",
       "    <tr>\n",
       "      <th>id</th>\n",
       "      <th></th>\n",
       "      <th></th>\n",
       "    </tr>\n",
       "  </thead>\n",
       "  <tbody>\n",
       "    <tr>\n",
       "      <th>38</th>\n",
       "      <td>Powder(1995)</td>\n",
       "      <td>2</td>\n",
       "    </tr>\n",
       "    <tr>\n",
       "      <th>43</th>\n",
       "      <td>Inside_out(2015)</td>\n",
       "      <td>2</td>\n",
       "    </tr>\n",
       "    <tr>\n",
       "      <th>44</th>\n",
       "      <td>Inside_out(2015)</td>\n",
       "      <td>2</td>\n",
       "    </tr>\n",
       "    <tr>\n",
       "      <th>68</th>\n",
       "      <td>Powder(1995)</td>\n",
       "      <td>2</td>\n",
       "    </tr>\n",
       "  </tbody>\n",
       "</table>\n",
       "</div>"
      ],
      "text/plain": [
       "               Movie  Level\n",
       "id                         \n",
       "38      Powder(1995)      2\n",
       "43  Inside_out(2015)      2\n",
       "44  Inside_out(2015)      2\n",
       "68      Powder(1995)      2"
      ]
     },
     "execution_count": 10,
     "metadata": {},
     "output_type": "execute_result"
    }
   ],
   "source": [
    "df[df.duplicated(keep=False)]"
   ]
  },
  {
   "cell_type": "code",
   "execution_count": 11,
   "id": "c67cd387",
   "metadata": {},
   "outputs": [
    {
     "data": {
      "text/plain": [
       "(239, 2)"
      ]
     },
     "execution_count": 11,
     "metadata": {},
     "output_type": "execute_result"
    }
   ],
   "source": [
    "df = df.drop_duplicates()\n",
    "df.shape"
   ]
  },
  {
   "cell_type": "markdown",
   "id": "64608ee8",
   "metadata": {},
   "source": [
    "Подключим папку, содержащую файлы с субтитрами, и проверим сколько фильмов из датасета имеет и метку уровня сложности, и субтитры."
   ]
  },
  {
   "cell_type": "code",
   "execution_count": 12,
   "id": "67c30845",
   "metadata": {},
   "outputs": [
    {
     "name": "stdout",
     "output_type": "stream",
     "text": [
      "Количество фильмов в папке с субтитрами: 279\n"
     ]
    }
   ],
   "source": [
    "names = os.listdir(path='./subtitles')\n",
    "print(f'Количество фильмов в папке с субтитрами: {len(names)}')"
   ]
  },
  {
   "cell_type": "code",
   "execution_count": 13,
   "id": "718735be",
   "metadata": {},
   "outputs": [
    {
     "name": "stdout",
     "output_type": "stream",
     "text": [
      "Количество фильмов, имеющих метку и субтитры: 229\n"
     ]
    }
   ],
   "source": [
    "filtr = set(names) & set(df['Movie'] + '.srt')\n",
    "print(f'Количество фильмов, имеющих метку и субтитры: {len(filtr)}')"
   ]
  },
  {
   "cell_type": "markdown",
   "id": "8bae21e8",
   "metadata": {},
   "source": [
    "Загрузим словарь с уникальными лексемами и присвоенным уровнем сложности."
   ]
  },
  {
   "cell_type": "code",
   "execution_count": 14,
   "id": "e0641cdb",
   "metadata": {},
   "outputs": [
    {
     "data": {
      "text/plain": [
       "'a, an \\nabout \\nabove \\nacross \\na'"
      ]
     },
     "execution_count": 14,
     "metadata": {},
     "output_type": "execute_result"
    }
   ],
   "source": [
    "oxford = load_files('oxford/', shuffle=False, encoding='utf-8-sig')\n",
    "oxford.data[0][:30]"
   ]
  },
  {
   "cell_type": "markdown",
   "id": "fdcddd4d",
   "metadata": {},
   "source": [
    "## Подготовка данных для обучения модели"
   ]
  },
  {
   "cell_type": "markdown",
   "id": "73ca68dc",
   "metadata": {},
   "source": [
    "### Очистка текстовых данных."
   ]
  },
  {
   "cell_type": "code",
   "execution_count": 15,
   "id": "beaf2e29",
   "metadata": {},
   "outputs": [],
   "source": [
    "HTML = r'<.*?>' \n",
    "TAG = r'{.*?}'\n",
    "COMMENTS = r'[\\(\\[][A-Za-z ]+[\\)\\]]' \n",
    "LETTERS = r'[^a-zA-Z\\.,!? ]' \n",
    "SPACES = r'([ ])\\1+' \n",
    "DOTS = r'[\\.]+' \n",
    "\n",
    "def clean_subs(subs):\n",
    "    subs = subs[1:] \n",
    "    txt = re.sub(HTML, ' ', subs.text)\n",
    "    txt = re.sub(COMMENTS, ' ', txt) \n",
    "    txt = re.sub(LETTERS, ' ', txt) \n",
    "    txt = re.sub(DOTS, r'.', txt) \n",
    "    txt = re.sub(SPACES, r'\\1', txt)\n",
    "    txt = re.sub('www', '', txt) \n",
    "    txt = txt.lstrip() \n",
    "    txt = txt.encode('ascii', 'ignore').decode() \n",
    "    txt = txt.lower() \n",
    "    return txt\n"
   ]
  },
  {
   "cell_type": "markdown",
   "id": "35b18891",
   "metadata": {},
   "source": [
    "### Лемматизация и подсчет количесва лемм, содержащихся в словаре."
   ]
  },
  {
   "cell_type": "code",
   "execution_count": 16,
   "id": "680f845c",
   "metadata": {},
   "outputs": [],
   "source": [
    "def lemma_count(lemmas, oxf, cat):\n",
    "    func_dict = {'A1': 0,\n",
    "                 'A2': 1,\n",
    "                 'B1': 2,\n",
    "                 'B2': 3,\n",
    "                 'C1': 4}\n",
    "    level = func_dict[cat]\n",
    "    oxf_word_list = oxf[level].split()\n",
    "    words = [lemma for lemma in lemmas if lemma in oxf_word_list]\n",
    "\n",
    "    return len(set(words))"
   ]
  },
  {
   "cell_type": "markdown",
   "id": "363c2b86",
   "metadata": {},
   "source": [
    "### Итоговый датасет."
   ]
  },
  {
   "cell_type": "code",
   "execution_count": 17,
   "id": "93bf7a37",
   "metadata": {},
   "outputs": [
    {
     "data": {
      "text/html": [
       "<div>\n",
       "<style scoped>\n",
       "    .dataframe tbody tr th:only-of-type {\n",
       "        vertical-align: middle;\n",
       "    }\n",
       "\n",
       "    .dataframe tbody tr th {\n",
       "        vertical-align: top;\n",
       "    }\n",
       "\n",
       "    .dataframe thead th {\n",
       "        text-align: right;\n",
       "    }\n",
       "</style>\n",
       "<table border=\"1\" class=\"dataframe\">\n",
       "  <thead>\n",
       "    <tr style=\"text-align: right;\">\n",
       "      <th></th>\n",
       "      <th>Movie</th>\n",
       "      <th>Level</th>\n",
       "      <th>subs</th>\n",
       "      <th>A1_lemma_cnt</th>\n",
       "      <th>A2_lemma_cnt</th>\n",
       "      <th>B1_lemma_cnt</th>\n",
       "      <th>B2_lemma_cnt</th>\n",
       "      <th>C1_lemma_cnt</th>\n",
       "    </tr>\n",
       "    <tr>\n",
       "      <th>id</th>\n",
       "      <th></th>\n",
       "      <th></th>\n",
       "      <th></th>\n",
       "      <th></th>\n",
       "      <th></th>\n",
       "      <th></th>\n",
       "      <th></th>\n",
       "      <th></th>\n",
       "    </tr>\n",
       "  </thead>\n",
       "  <tbody>\n",
       "    <tr>\n",
       "      <th>0</th>\n",
       "      <td>10_Cloverfield_lane(2016)</td>\n",
       "      <td>2</td>\n",
       "      <td>ben on phone michelle, please don t hang up. j...</td>\n",
       "      <td>372.0</td>\n",
       "      <td>187.0</td>\n",
       "      <td>128.0</td>\n",
       "      <td>105.0</td>\n",
       "      <td>39.0</td>\n",
       "    </tr>\n",
       "    <tr>\n",
       "      <th>1</th>\n",
       "      <td>10_things_I_hate_about_you(1999)</td>\n",
       "      <td>2</td>\n",
       "      <td>i ll be right with you. so, cameron. here you ...</td>\n",
       "      <td>449.0</td>\n",
       "      <td>243.0</td>\n",
       "      <td>176.0</td>\n",
       "      <td>161.0</td>\n",
       "      <td>68.0</td>\n",
       "    </tr>\n",
       "    <tr>\n",
       "      <th>2</th>\n",
       "      <td>A_knights_tale(2001)</td>\n",
       "      <td>3</td>\n",
       "      <td>should we help him? he s due in the lists in t...</td>\n",
       "      <td>427.0</td>\n",
       "      <td>247.0</td>\n",
       "      <td>154.0</td>\n",
       "      <td>135.0</td>\n",
       "      <td>75.0</td>\n",
       "    </tr>\n",
       "    <tr>\n",
       "      <th>3</th>\n",
       "      <td>A_star_is_born(2018)</td>\n",
       "      <td>3</td>\n",
       "      <td>get to it. black eyes open wide it s time to t...</td>\n",
       "      <td>455.0</td>\n",
       "      <td>257.0</td>\n",
       "      <td>143.0</td>\n",
       "      <td>127.0</td>\n",
       "      <td>48.0</td>\n",
       "    </tr>\n",
       "    <tr>\n",
       "      <th>4</th>\n",
       "      <td>Aladdin(1992)</td>\n",
       "      <td>1</td>\n",
       "      <td>where the caravan camels roam where it s flat ...</td>\n",
       "      <td>424.0</td>\n",
       "      <td>246.0</td>\n",
       "      <td>155.0</td>\n",
       "      <td>149.0</td>\n",
       "      <td>64.0</td>\n",
       "    </tr>\n",
       "    <tr>\n",
       "      <th>5</th>\n",
       "      <td>All_dogs_go_to_heaven(1989)</td>\n",
       "      <td>1</td>\n",
       "      <td>itchy, a few more degrees to the left! now! ta...</td>\n",
       "      <td>376.0</td>\n",
       "      <td>204.0</td>\n",
       "      <td>107.0</td>\n",
       "      <td>116.0</td>\n",
       "      <td>40.0</td>\n",
       "    </tr>\n",
       "    <tr>\n",
       "      <th>6</th>\n",
       "      <td>An_American_tail(1986)</td>\n",
       "      <td>1</td>\n",
       "      <td>mama tanya, fievel? will you stop that twirlin...</td>\n",
       "      <td>364.0</td>\n",
       "      <td>151.0</td>\n",
       "      <td>95.0</td>\n",
       "      <td>73.0</td>\n",
       "      <td>27.0</td>\n",
       "    </tr>\n",
       "    <tr>\n",
       "      <th>7</th>\n",
       "      <td>Babe(1995)</td>\n",
       "      <td>1</td>\n",
       "      <td>and how it changed our valley forever. there w...</td>\n",
       "      <td>410.0</td>\n",
       "      <td>227.0</td>\n",
       "      <td>126.0</td>\n",
       "      <td>114.0</td>\n",
       "      <td>48.0</td>\n",
       "    </tr>\n",
       "    <tr>\n",
       "      <th>8</th>\n",
       "      <td>Back_to_the_future(1985)</td>\n",
       "      <td>1</td>\n",
       "      <td>so right now, statler toyota is making the bes...</td>\n",
       "      <td>448.0</td>\n",
       "      <td>285.0</td>\n",
       "      <td>156.0</td>\n",
       "      <td>148.0</td>\n",
       "      <td>60.0</td>\n",
       "    </tr>\n",
       "    <tr>\n",
       "      <th>9</th>\n",
       "      <td>Banking_On_Bitcoin(2016)</td>\n",
       "      <td>4</td>\n",
       "      <td>official yify movies site yts.mx i really like...</td>\n",
       "      <td>458.0</td>\n",
       "      <td>343.0</td>\n",
       "      <td>245.0</td>\n",
       "      <td>286.0</td>\n",
       "      <td>112.0</td>\n",
       "    </tr>\n",
       "  </tbody>\n",
       "</table>\n",
       "</div>"
      ],
      "text/plain": [
       "                               Movie  Level  \\\n",
       "id                                            \n",
       "0          10_Cloverfield_lane(2016)      2   \n",
       "1   10_things_I_hate_about_you(1999)      2   \n",
       "2               A_knights_tale(2001)      3   \n",
       "3               A_star_is_born(2018)      3   \n",
       "4                      Aladdin(1992)      1   \n",
       "5        All_dogs_go_to_heaven(1989)      1   \n",
       "6             An_American_tail(1986)      1   \n",
       "7                         Babe(1995)      1   \n",
       "8           Back_to_the_future(1985)      1   \n",
       "9           Banking_On_Bitcoin(2016)      4   \n",
       "\n",
       "                                                 subs  A1_lemma_cnt  \\\n",
       "id                                                                    \n",
       "0   ben on phone michelle, please don t hang up. j...         372.0   \n",
       "1   i ll be right with you. so, cameron. here you ...         449.0   \n",
       "2   should we help him? he s due in the lists in t...         427.0   \n",
       "3   get to it. black eyes open wide it s time to t...         455.0   \n",
       "4   where the caravan camels roam where it s flat ...         424.0   \n",
       "5   itchy, a few more degrees to the left! now! ta...         376.0   \n",
       "6   mama tanya, fievel? will you stop that twirlin...         364.0   \n",
       "7   and how it changed our valley forever. there w...         410.0   \n",
       "8   so right now, statler toyota is making the bes...         448.0   \n",
       "9   official yify movies site yts.mx i really like...         458.0   \n",
       "\n",
       "    A2_lemma_cnt  B1_lemma_cnt  B2_lemma_cnt  C1_lemma_cnt  \n",
       "id                                                          \n",
       "0          187.0         128.0         105.0          39.0  \n",
       "1          243.0         176.0         161.0          68.0  \n",
       "2          247.0         154.0         135.0          75.0  \n",
       "3          257.0         143.0         127.0          48.0  \n",
       "4          246.0         155.0         149.0          64.0  \n",
       "5          204.0         107.0         116.0          40.0  \n",
       "6          151.0          95.0          73.0          27.0  \n",
       "7          227.0         126.0         114.0          48.0  \n",
       "8          285.0         156.0         148.0          60.0  \n",
       "9          343.0         245.0         286.0         112.0  "
      ]
     },
     "execution_count": 17,
     "metadata": {},
     "output_type": "execute_result"
    }
   ],
   "source": [
    "for film in filtr:\n",
    "    try: \n",
    "        subs = pysrt.open(f'subtitles/{film}')\n",
    "    except:\n",
    "        subs = pysrt.open(f'subtitles/{film}', encoding='iso-8859-1')\n",
    "    \n",
    "    cln_subs = clean_subs(subs)\n",
    "    df.loc[df['Movie'] == film[:-4], 'subs'] = cln_subs\n",
    "    \n",
    "    nlp = spacy.load('en_core_web_sm')\n",
    "    doc = nlp(cln_subs)\n",
    "    lemma_list = [token.lemma_ for token in doc]\n",
    "    \n",
    "    for lvl in ['A1', 'A2', 'B1', 'B2', 'C1']:\n",
    "        df.loc[df['Movie'] == film[:-4], lvl+'_lemma_cnt'] = lemma_count(lemma_list, oxford.data, lvl)\n",
    "\n",
    "df.head(10)"
   ]
  },
  {
   "cell_type": "markdown",
   "id": "7ac5e97d",
   "metadata": {},
   "source": [
    "Проверим пропущенные значения."
   ]
  },
  {
   "cell_type": "code",
   "execution_count": 18,
   "id": "c2b3ade8",
   "metadata": {},
   "outputs": [
    {
     "data": {
      "text/html": [
       "<div>\n",
       "<style scoped>\n",
       "    .dataframe tbody tr th:only-of-type {\n",
       "        vertical-align: middle;\n",
       "    }\n",
       "\n",
       "    .dataframe tbody tr th {\n",
       "        vertical-align: top;\n",
       "    }\n",
       "\n",
       "    .dataframe thead th {\n",
       "        text-align: right;\n",
       "    }\n",
       "</style>\n",
       "<table border=\"1\" class=\"dataframe\">\n",
       "  <thead>\n",
       "    <tr style=\"text-align: right;\">\n",
       "      <th></th>\n",
       "      <th>Movie</th>\n",
       "      <th>Level</th>\n",
       "      <th>subs</th>\n",
       "      <th>A1_lemma_cnt</th>\n",
       "      <th>A2_lemma_cnt</th>\n",
       "      <th>B1_lemma_cnt</th>\n",
       "      <th>B2_lemma_cnt</th>\n",
       "      <th>C1_lemma_cnt</th>\n",
       "    </tr>\n",
       "    <tr>\n",
       "      <th>id</th>\n",
       "      <th></th>\n",
       "      <th></th>\n",
       "      <th></th>\n",
       "      <th></th>\n",
       "      <th></th>\n",
       "      <th></th>\n",
       "      <th></th>\n",
       "      <th></th>\n",
       "    </tr>\n",
       "  </thead>\n",
       "  <tbody>\n",
       "    <tr>\n",
       "      <th>237</th>\n",
       "      <td>Bullet train</td>\n",
       "      <td>2</td>\n",
       "      <td>NaN</td>\n",
       "      <td>NaN</td>\n",
       "      <td>NaN</td>\n",
       "      <td>NaN</td>\n",
       "      <td>NaN</td>\n",
       "      <td>NaN</td>\n",
       "    </tr>\n",
       "    <tr>\n",
       "      <th>235</th>\n",
       "      <td>Glass Onion</td>\n",
       "      <td>3</td>\n",
       "      <td>NaN</td>\n",
       "      <td>NaN</td>\n",
       "      <td>NaN</td>\n",
       "      <td>NaN</td>\n",
       "      <td>NaN</td>\n",
       "      <td>NaN</td>\n",
       "    </tr>\n",
       "    <tr>\n",
       "      <th>239</th>\n",
       "      <td>Lightyear</td>\n",
       "      <td>3</td>\n",
       "      <td>NaN</td>\n",
       "      <td>NaN</td>\n",
       "      <td>NaN</td>\n",
       "      <td>NaN</td>\n",
       "      <td>NaN</td>\n",
       "      <td>NaN</td>\n",
       "    </tr>\n",
       "    <tr>\n",
       "      <th>236</th>\n",
       "      <td>Matilda(2022)</td>\n",
       "      <td>4</td>\n",
       "      <td>NaN</td>\n",
       "      <td>NaN</td>\n",
       "      <td>NaN</td>\n",
       "      <td>NaN</td>\n",
       "      <td>NaN</td>\n",
       "      <td>NaN</td>\n",
       "    </tr>\n",
       "    <tr>\n",
       "      <th>240</th>\n",
       "      <td>The Grinch</td>\n",
       "      <td>2</td>\n",
       "      <td>NaN</td>\n",
       "      <td>NaN</td>\n",
       "      <td>NaN</td>\n",
       "      <td>NaN</td>\n",
       "      <td>NaN</td>\n",
       "      <td>NaN</td>\n",
       "    </tr>\n",
       "    <tr>\n",
       "      <th>81</th>\n",
       "      <td>The Secret Life of Pets.en</td>\n",
       "      <td>3</td>\n",
       "      <td>NaN</td>\n",
       "      <td>NaN</td>\n",
       "      <td>NaN</td>\n",
       "      <td>NaN</td>\n",
       "      <td>NaN</td>\n",
       "      <td>NaN</td>\n",
       "    </tr>\n",
       "    <tr>\n",
       "      <th>238</th>\n",
       "      <td>Thor: love and thunder</td>\n",
       "      <td>3</td>\n",
       "      <td>NaN</td>\n",
       "      <td>NaN</td>\n",
       "      <td>NaN</td>\n",
       "      <td>NaN</td>\n",
       "      <td>NaN</td>\n",
       "      <td>NaN</td>\n",
       "    </tr>\n",
       "    <tr>\n",
       "      <th>106</th>\n",
       "      <td>Up (2009)</td>\n",
       "      <td>1</td>\n",
       "      <td>NaN</td>\n",
       "      <td>NaN</td>\n",
       "      <td>NaN</td>\n",
       "      <td>NaN</td>\n",
       "      <td>NaN</td>\n",
       "      <td>NaN</td>\n",
       "    </tr>\n",
       "  </tbody>\n",
       "</table>\n",
       "</div>"
      ],
      "text/plain": [
       "                          Movie  Level subs  A1_lemma_cnt  A2_lemma_cnt  \\\n",
       "id                                                                        \n",
       "237                Bullet train      2  NaN           NaN           NaN   \n",
       "235                 Glass Onion      3  NaN           NaN           NaN   \n",
       "239                   Lightyear      3  NaN           NaN           NaN   \n",
       "236               Matilda(2022)      4  NaN           NaN           NaN   \n",
       "240                  The Grinch      2  NaN           NaN           NaN   \n",
       "81   The Secret Life of Pets.en      3  NaN           NaN           NaN   \n",
       "238      Thor: love and thunder      3  NaN           NaN           NaN   \n",
       "106                   Up (2009)      1  NaN           NaN           NaN   \n",
       "\n",
       "     B1_lemma_cnt  B2_lemma_cnt  C1_lemma_cnt  \n",
       "id                                             \n",
       "237           NaN           NaN           NaN  \n",
       "235           NaN           NaN           NaN  \n",
       "239           NaN           NaN           NaN  \n",
       "236           NaN           NaN           NaN  \n",
       "240           NaN           NaN           NaN  \n",
       "81            NaN           NaN           NaN  \n",
       "238           NaN           NaN           NaN  \n",
       "106           NaN           NaN           NaN  "
      ]
     },
     "execution_count": 18,
     "metadata": {},
     "output_type": "execute_result"
    }
   ],
   "source": [
    "df[df['subs'].isna()].sort_values('Movie')"
   ]
  },
  {
   "cell_type": "code",
   "execution_count": 19,
   "id": "b7ee1605",
   "metadata": {},
   "outputs": [
    {
     "data": {
      "text/plain": [
       "['Bullet train.srt',\n",
       " 'Glass Onion.srt',\n",
       " 'Lightyear.srt',\n",
       " 'Matilda(2022).srt',\n",
       " 'The Grinch.srt',\n",
       " 'The Secret Life of Pets.en.srt',\n",
       " 'Thor: love and thunder.srt',\n",
       " 'Up (2009).srt']"
      ]
     },
     "execution_count": 19,
     "metadata": {},
     "output_type": "execute_result"
    }
   ],
   "source": [
    "sorted(set(df['Movie'] + '.srt') - set(names))"
   ]
  },
  {
   "cell_type": "code",
   "execution_count": 20,
   "id": "6c48bcb9",
   "metadata": {},
   "outputs": [
    {
     "data": {
      "text/html": [
       "<div>\n",
       "<style scoped>\n",
       "    .dataframe tbody tr th:only-of-type {\n",
       "        vertical-align: middle;\n",
       "    }\n",
       "\n",
       "    .dataframe tbody tr th {\n",
       "        vertical-align: top;\n",
       "    }\n",
       "\n",
       "    .dataframe thead th {\n",
       "        text-align: right;\n",
       "    }\n",
       "</style>\n",
       "<table border=\"1\" class=\"dataframe\">\n",
       "  <thead>\n",
       "    <tr style=\"text-align: right;\">\n",
       "      <th></th>\n",
       "      <th>Movie</th>\n",
       "      <th>Level</th>\n",
       "      <th>subs</th>\n",
       "      <th>A1_lemma_cnt</th>\n",
       "      <th>A2_lemma_cnt</th>\n",
       "      <th>B1_lemma_cnt</th>\n",
       "      <th>B2_lemma_cnt</th>\n",
       "      <th>C1_lemma_cnt</th>\n",
       "    </tr>\n",
       "    <tr>\n",
       "      <th>id</th>\n",
       "      <th></th>\n",
       "      <th></th>\n",
       "      <th></th>\n",
       "      <th></th>\n",
       "      <th></th>\n",
       "      <th></th>\n",
       "      <th></th>\n",
       "      <th></th>\n",
       "    </tr>\n",
       "  </thead>\n",
       "  <tbody>\n",
       "  </tbody>\n",
       "</table>\n",
       "</div>"
      ],
      "text/plain": [
       "Empty DataFrame\n",
       "Columns: [Movie, Level, subs, A1_lemma_cnt, A2_lemma_cnt, B1_lemma_cnt, B2_lemma_cnt, C1_lemma_cnt]\n",
       "Index: []"
      ]
     },
     "execution_count": 20,
     "metadata": {},
     "output_type": "execute_result"
    }
   ],
   "source": [
    "df.dropna(inplace=True)\n",
    "df[df['subs'].isna()]"
   ]
  },
  {
   "cell_type": "markdown",
   "id": "a8188f44",
   "metadata": {},
   "source": [
    "Определим количество фильмов, представленных в каждой категории сложности."
   ]
  },
  {
   "cell_type": "code",
   "execution_count": 21,
   "id": "523ade57",
   "metadata": {},
   "outputs": [
    {
     "data": {
      "text/plain": [
       "3    97\n",
       "2    59\n",
       "4    39\n",
       "1    36\n",
       "Name: Level, dtype: int64"
      ]
     },
     "execution_count": 21,
     "metadata": {},
     "output_type": "execute_result"
    }
   ],
   "source": [
    "df['Level'].value_counts()"
   ]
  },
  {
   "cell_type": "markdown",
   "id": "049fe30a",
   "metadata": {},
   "source": [
    "### Разбиение на обучающую и тестовую выборки."
   ]
  },
  {
   "cell_type": "code",
   "execution_count": 22,
   "id": "3c6fc112",
   "metadata": {},
   "outputs": [
    {
     "name": "stdout",
     "output_type": "stream",
     "text": [
      "Размер обучающей выборки: ((184, 6), (184,))\n",
      "Размер тестовой выборки: ((47, 6), (47,))\n"
     ]
    }
   ],
   "source": [
    "df_train, df_test = train_test_split(df, random_state=RAND, test_size=.2, stratify=df['Level'])\n",
    "\n",
    "X_train = df_train.drop(['Level', 'Movie'], axis=1)\n",
    "y_train = df_train['Level']\n",
    "X_test = df_test.drop(['Level', 'Movie'], axis=1)\n",
    "y_test = df_test['Level']\n",
    "\n",
    "print(f'Размер обучающей выборки: {X_train.shape, y_train.shape}')\n",
    "print(f'Размер тестовой выборки: {X_test.shape, y_test.shape}')"
   ]
  },
  {
   "cell_type": "markdown",
   "id": "69d74f06",
   "metadata": {},
   "source": [
    "### Векторизация текста субтитров."
   ]
  },
  {
   "cell_type": "code",
   "execution_count": 23,
   "id": "1398715e",
   "metadata": {},
   "outputs": [],
   "source": [
    "vect = CountVectorizer(min_df=4).fit(X_train['subs'])\n",
    "X_train_vect = vect.transform(X_train['subs'])\n",
    "X_test_vect = vect.transform(X_test['subs'])"
   ]
  },
  {
   "cell_type": "code",
   "execution_count": 24,
   "id": "8af767f2",
   "metadata": {},
   "outputs": [
    {
     "name": "stdout",
     "output_type": "stream",
     "text": [
      "Количество признаков: 8597\n",
      "Каждый 100-й признак:\n",
      "['aah', 'adorable', 'alley', 'anti', 'arrows', 'automatically', 'barn', 'belts', 'blinded', 'bowl', 'bubble', 'calling', 'caymans', 'cheese', 'cleaner', 'colour', 'conflict', 'core', 'crew', 'dandy', 'definition', 'devious', 'disrespectful', 'draft', 'earlier', 'emotion', 'eternity', 'explanation', 'fated', 'find', 'fool', 'fricking', 'genuine', 'grace', 'gumbo', 'hated', 'him', 'hour', 'impressive', 'instantly', 'island', 'journalist', 'knocked', 'leak', 'lining', 'loved', 'mandatory', 'meant', 'mind', 'most', 'nations', 'normally', 'one', 'oversee', 'passion', 'pet', 'planning', 'possible', 'printed', 'psst', 'rack', 'recognize', 'remote', 'rethink', 'role', 'sake', 'screams', 'services', 'shoots', 'sixteen', 'sneakers', 'speaking', 'started', 'strength', 'sum', 'switching', 'teeny', 'thinking', 'tokyo', 'travelled', 'typing', 'us', 'visit', 'wasting', 'whistle', 'workers']\n"
     ]
    }
   ],
   "source": [
    "feature_names = vect.get_feature_names()\n",
    "print('Количество признаков: {}'.format(len(feature_names)))\n",
    "print('Каждый 100-й признак:\\n{}'.format(feature_names[::100]))"
   ]
  },
  {
   "cell_type": "markdown",
   "id": "613c3cb7",
   "metadata": {},
   "source": [
    "## Обучение и предсказание модели Наивного Байеса."
   ]
  },
  {
   "cell_type": "code",
   "execution_count": 25,
   "id": "20f56e63",
   "metadata": {},
   "outputs": [
    {
     "name": "stdout",
     "output_type": "stream",
     "text": [
      "0.622562340320961\n",
      "{'clf__alpha': 0.049}\n"
     ]
    }
   ],
   "source": [
    "other_colls = X_train.columns[1:]\n",
    "\n",
    "vector = CountVectorizer(min_df=4)\n",
    "\n",
    "preprocessor = ColumnTransformer([\n",
    "    ('other', 'passthrough', other_colls),\n",
    "    ('txt', vector, 'subs')\n",
    "])\n",
    "\n",
    "classifier = MultinomialNB()\n",
    "pipe = Pipeline(steps=[('prep', preprocessor),\n",
    "                       ('clf', classifier)])\n",
    "\n",
    "param_grid = {'clf__alpha': np.arange(0.001, 0.3, 0.002)}\n",
    "grid = GridSearchCV(pipe, param_grid, cv=5, scoring='f1_weighted')\n",
    "grid.fit(X_train, y_train)\n",
    "\n",
    "print(grid.best_score_)\n",
    "print(grid.best_params_)"
   ]
  },
  {
   "cell_type": "markdown",
   "id": "b5bc6f8f",
   "metadata": {},
   "source": [
    "Лучшая модель показала результат - 0.623 (F1_weighted) при подобранном гиперпараметре 'alpha' равном 0.049.\n",
    "\n",
    "Оценим модель на тестовой выборке."
   ]
  },
  {
   "cell_type": "code",
   "execution_count": 26,
   "id": "e44c2f3e",
   "metadata": {},
   "outputs": [
    {
     "name": "stdout",
     "output_type": "stream",
     "text": [
      "Метрика F1-weighted на обучающей выборке:0.9671595224794963\n",
      "Метрика F1-weighted на тестовой выборке:0.5645276227944291\n",
      "--------------------------------------------------\n",
      "Матрица ошибок:\n",
      "--------------------------------------------------\n",
      "              precision    recall  f1-score   support\n",
      "\n",
      "           1       0.57      0.57      0.57         7\n",
      "           2       0.37      0.58      0.45        12\n",
      "           3       0.72      0.65      0.68        20\n",
      "           4       1.00      0.38      0.55         8\n",
      "\n",
      "    accuracy                           0.57        47\n",
      "   macro avg       0.67      0.54      0.56        47\n",
      "weighted avg       0.66      0.57      0.58        47\n",
      "\n"
     ]
    }
   ],
   "source": [
    "predictions = grid.predict(X_test)\n",
    "\n",
    "print(f'Метрика F1-weighted на обучающей выборке:{f1_score(grid.predict(X_train), y_train, average=\"weighted\")}')\n",
    "print(f'Метрика F1-weighted на тестовой выборке:{f1_score(predictions, y_test, average=\"weighted\")}')\n",
    "print('-'*50)\n",
    "print('Матрица ошибок:')\n",
    "print('-'*50)\n",
    "print(classification_report(y_test, predictions))\n"
   ]
  },
  {
   "cell_type": "markdown",
   "id": "2d609510",
   "metadata": {},
   "source": [
    "Лучшая модель показала результат - 0.56 (F1_weighted) на тестовой выборке."
   ]
  },
  {
   "cell_type": "markdown",
   "id": "8a307478",
   "metadata": {},
   "source": [
    "## Вывод"
   ]
  },
  {
   "cell_type": "markdown",
   "id": "a90fcb4e",
   "metadata": {},
   "source": [
    "В целом с учетом предположения о субъективности разметки представленных Заказчиком фильмов, а так же использования быстрого и простого наивного Байесовского классификатора, удалось достичь приемлемых результатов. Взвешенная метрика F1-weighted на тестовой выборке составила 0.56.\n"
   ]
  },
  {
   "cell_type": "code",
   "execution_count": null,
   "id": "517ee784",
   "metadata": {},
   "outputs": [],
   "source": []
  }
 ],
 "metadata": {
  "kernelspec": {
   "display_name": "Python 3",
   "language": "python",
   "name": "python3"
  },
  "language_info": {
   "codemirror_mode": {
    "name": "ipython",
    "version": 3
   },
   "file_extension": ".py",
   "mimetype": "text/x-python",
   "name": "python",
   "nbconvert_exporter": "python",
   "pygments_lexer": "ipython3",
   "version": "3.8.8"
  }
 },
 "nbformat": 4,
 "nbformat_minor": 5
}
